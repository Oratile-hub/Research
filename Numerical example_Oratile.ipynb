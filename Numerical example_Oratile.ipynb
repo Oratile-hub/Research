{
 "cells": [
  {
   "cell_type": "markdown",
   "metadata": {},
   "source": [
    "## The numerical example of cost function\n",
    "\n",
    "### Cost/ loss function terms\n",
    "\n",
    "\n",
    "### The Root Meat Squared Error (RMSE)\n",
    "\\\n",
    "\\\n",
    "$RMSE=\\sqrt{\\frac{\\sum_{i=1}^{N}(y_{i}-\\tilde{y}_{i})^{2}}{N}}$"
   ]
  },
  {
   "cell_type": "markdown",
   "metadata": {},
   "source": [
    "#### N   - Number of training examples.\n",
    "#### i   - ith training example in a data set.\n",
    "#### y(i)     - Ground truth label for ith training example.\n",
    "#### y_hat(i) - Prediction for ith training example."
   ]
  },
  {
   "cell_type": "code",
   "execution_count": 6,
   "metadata": {},
   "outputs": [
    {
     "name": "stdout",
     "output_type": "stream",
     "text": [
      "d is: ['0.01200000', '0.16600000', '0.33300000']\n",
      "p is: ['0.03100000', '0.25400000', '0.99800000']\n",
      "RMSE is: 0.3874403179845897\n"
     ]
    }
   ],
   "source": [
    "import numpy as np\n",
    "\n",
    "# N = 3 \n",
    "y_hat = np.array([0.012, 0.166, 0.333])\n",
    "y_true = np.array([0.031, 0.254, 0.998])\n",
    "\n",
    "\n",
    "def RMSE(predictions, targets):\n",
    "    differences = predictions - targets\n",
    "    differences_squared = differences ** 2\n",
    "    mean_of_differences_squared = differences_squared.mean()\n",
    "    RMSE_val = np.sqrt(mean_of_differences_squared)\n",
    "    return RMSE_val\n",
    "\n",
    "print(\"d is: \" + str([\"%.8f\" % elem for elem in y_hat]))\n",
    "print(\"p is: \" + str([\"%.8f\" % elem for elem in y_true]))\n",
    "\n",
    "\n",
    "RMSE_val = RMSE(y_hat, y_true)\n",
    "print(\"RMSE is: \" + str(RMSE_val))"
   ]
  },
  {
   "cell_type": "code",
   "execution_count": null,
   "metadata": {},
   "outputs": [],
   "source": []
  }
 ],
 "metadata": {
  "kernelspec": {
   "display_name": "Python 3",
   "language": "python",
   "name": "python3"
  },
  "language_info": {
   "codemirror_mode": {
    "name": "ipython",
    "version": 3
   },
   "file_extension": ".py",
   "mimetype": "text/x-python",
   "name": "python",
   "nbconvert_exporter": "python",
   "pygments_lexer": "ipython3",
   "version": "3.7.3"
  }
 },
 "nbformat": 4,
 "nbformat_minor": 2
}
